{
 "cells": [
  {
   "cell_type": "code",
   "execution_count": 1,
   "metadata": {
    "collapsed": false
   },
   "outputs": [],
   "source": [
    "import os\n",
    "import pcse\n",
    "%matplotlib inline\n",
    "import matplotlib.pyplot as plt\n",
    "data_dir = r'C:\\Users\\nstoddar\\Dev\\temp\\quickstart_part2'\n"
   ]
  },
  {
   "cell_type": "code",
   "execution_count": 2,
   "metadata": {
    "collapsed": false
   },
   "outputs": [
    {
     "name": "stdout",
     "output_type": "stream",
     "text": [
      "** $Id: sug0601.cab 1.3 1997/09/25 14:07:02 LEM release $\n",
      "** File SUG0601.CAB\n",
      "** CROP DATA FILE for use with WOFOST Version 5.4, June 1992\n",
      "**\n",
      "** SUGAR BEET 601\n",
      "** Regions : Germany, Northern and Central France, Netherlands, Belgium,\n",
      "**           Luxembourg, UK, Ireland, Denmark\n",
      "** Sowing date : between 1 and 10 April\n",
      "** mean date of harvest : between 17 and 27 October\n",
      "** Derived from SUCROS87 data set for sugar beet.\n",
      "** Calibrated for use in WOFOST model at the Centre for Agrobiological\n",
      "** Research (CABO-DLO) for the simulation of crop growth and yield on the\n",
      "** basis of daily weather data.\n",
      "** Purpose of application: Crop growth monitoring with agrometeorological\n",
      "** model in the EC.\n",
      "** Developed in the framework of JRC Agriculture Project Action 3.\n",
      "------------------------------------\n",
      "DTSMTB: [0.0, 0.0, 3.0, 0.0, 21.0, 18.0, 35.0, 18.0] <type 'list'>\n",
      "CVR: 0.72 <type 'float'>\n",
      "CVS: 0.69 <type 'float'>\n",
      "EFFTB: [0.0, 0.45, 40.0, 0.45] <type 'list'>\n",
      "CVO: 0.82 <type 'float'>\n",
      "CVL: 0.72 <type 'float'>\n",
      "FSTB: [0.0, 0.15, 1.0, 0.5, 1.3, 0.1, 1.57, 0.1, 1.92, 0.05, 2.0, 0.05] <type 'list'>\n",
      "NMAXSO: 0.013 <type 'float'>\n",
      "AMAXTB: [0.0, 22.5, 1.0, 45.0, 1.13, 45.0, 1.8, 36.0, 2.0, 36.0] <type 'list'>\n",
      "DEPNR: 2.0 <type 'float'>\n",
      "KDIFTB: [0.0, 0.69, 2.0, 0.69] <type 'list'>\n",
      "YZERO: 0.0 <type 'float'>\n",
      "RMR: 0.015 <type 'float'>\n",
      "RMS: 0.015 <type 'float'>\n",
      "TBASEM: 3.0 <type 'float'>\n",
      "PMINSO: 0.0008 <type 'float'>\n",
      "RRI: 1.2 <type 'float'>\n",
      "IOX: 0 <type 'int'>\n",
      "NMINVE: 0.018 <type 'float'>\n",
      "SLATB: [0.0, 0.002, 2.0, 0.002] <type 'list'>\n",
      "TMPFTB: [0.0, 0.01, 3.0, 0.01, 10.0, 0.8, 15.0, 1.0, 20.0, 1.0, 30.0, 0.95, 35.0, 0.83, 40.0, 0.6] <type 'list'>\n",
      "TMNFTB: [0.0, 0.0, 3.0, 1.0] <type 'list'>\n",
      "Q10: 2.0 <type 'float'>\n",
      "SPA: 0.0 <type 'float'>\n",
      "FRTB: [0.0, 0.2, 0.91, 0.29, 1.0, 0.3, 1.15, 0.15, 1.29, 0.09, 1.3, 0.09, 1.57, 0.08, 1.92, 0.01, 2.0, 0.02] <type 'list'>\n",
      "SSATB: [0.0, 0.0, 2.0, 0.0] <type 'list'>\n",
      "RMO: 0.003 <type 'float'>\n",
      "RML: 0.03 <type 'float'>\n",
      "DLC: -99.0 <type 'float'>\n",
      "IAIRDU: 0 <type 'int'>\n",
      "KMAXSO: 0.013 <type 'float'>\n",
      "KMINVE: 0.018 <type 'float'>\n",
      "RGRLAI: 0.016 <type 'float'>\n",
      "DLO: -99.0 <type 'float'>\n",
      "NMAXVE: 0.028 <type 'float'>\n",
      "FOTB: [0.0, 0.0, 1.0, 0.0, 1.3, 0.85, 1.57, 0.85, 1.92, 0.9, 2.0, 0.9] <type 'list'>\n",
      "RFSETB: [0.0, 1.0, 2.0, 1.0] <type 'list'>\n",
      "TSUMEM: 90.0 <type 'float'>\n",
      "CRPNAM: Sugar beet 601, N-EC <type 'str'>\n",
      "DVSI: 0.0 <type 'float'>\n",
      "RDI: 10.0 <type 'float'>\n",
      "PMINVE: 0.0015 <type 'float'>\n",
      "RDRSTB: [0.0, 0.0, 1.5, 0.0, 1.5001, 0.02, 2.0, 0.02] <type 'list'>\n",
      "PERDL: 0.03 <type 'float'>\n",
      "RDMCR: 120.0 <type 'float'>\n",
      "IDSL: 0 <type 'int'>\n",
      "NFIX: 0.0 <type 'float'>\n",
      "SPAN: 35.0 <type 'float'>\n",
      "TBASE: 3.0 <type 'float'>\n",
      "CFET: 1.0 <type 'float'>\n",
      "DVSEND: 3.0 <type 'float'>\n",
      "PMAXVE: 0.0032 <type 'float'>\n",
      "FLTB: [0.0, 0.85, 1.0, 0.5, 1.3, 0.05, 1.57, 0.05, 2.0, 0.05] <type 'list'>\n",
      "LAIEM: 0.0007 <type 'float'>\n",
      "RDRRTB: [0.0, 0.0, 1.5, 0.0, 1.5001, 0.02, 2.0, 0.02] <type 'list'>\n",
      "TDWI: 0.51 <type 'float'>\n",
      "KMINSO: 0.006 <type 'float'>\n",
      "TEFFMX: 20.0 <type 'float'>\n",
      "PMAXSO: 0.0018 <type 'float'>\n",
      "TSUM2: 1400.0 <type 'float'>\n",
      "KMAXVE: 0.036 <type 'float'>\n",
      "TSUM1: 650.0 <type 'float'>\n",
      "NMINSO: 0.006 <type 'float'>\n",
      "\n"
     ]
    }
   ],
   "source": [
    "from pcse.fileinput import CABOFileReader\n",
    "cropfile = os.path.join(data_dir, 'sug0601.crop')\n",
    "cropdata = CABOFileReader(cropfile)\n",
    "print(cropdata)"
   ]
  },
  {
   "cell_type": "code",
   "execution_count": 3,
   "metadata": {
    "collapsed": true
   },
   "outputs": [],
   "source": [
    "soilfile = os.path.join(data_dir, 'ec3.soil')\n",
    "soildata = CABOFileReader(soilfile)"
   ]
  },
  {
   "cell_type": "code",
   "execution_count": 4,
   "metadata": {
    "collapsed": true
   },
   "outputs": [],
   "source": [
    "sitedata = {\n",
    "                'SSMAX'  : 0.,\n",
    "                'IFUNRN' : 0,\n",
    "                'NOTINF' : 0,\n",
    "                'SSI'    : 0,\n",
    "                'WAV'    : 100,\n",
    "                'SMLIM'  : 0.03,\n",
    "                'CO2'    : 360.\n",
    "            }"
   ]
  },
  {
   "cell_type": "code",
   "execution_count": 5,
   "metadata": {
    "collapsed": true
   },
   "outputs": [],
   "source": [
    "from pcse.base_classes import ParameterProvider\n",
    "parameters = ParameterProvider(cropdata=cropdata, soildata=soildata, sitedata=sitedata)\n"
   ]
  },
  {
   "cell_type": "code",
   "execution_count": 6,
   "metadata": {
    "collapsed": false
   },
   "outputs": [
    {
     "name": "stdout",
     "output_type": "stream",
     "text": [
      "!!python/object/new:pcse.fileinput.yaml_agmt_loader.YAMLAgroManagementReader\n",
      "listitems:\n",
      "- 2000-01-01:\n",
      "    CropCalendar:\n",
      "      crop_end_date: 2000-10-20\n",
      "      crop_end_type: harvest\n",
      "      crop_id: sugar-beet\n",
      "      crop_start_date: 2000-04-05\n",
      "      crop_start_type: emergence\n",
      "      max_duration: 300\n",
      "    StateEvents: null\n",
      "    TimedEvents: null\n",
      "\n"
     ]
    }
   ],
   "source": [
    "from pcse.fileinput import YAMLAgroManagementReader\n",
    "agromanagement_file = os.path.join(data_dir, 'sugarbeet_calendar.amgt')\n",
    "agromanagement = YAMLAgroManagementReader(agromanagement_file)\n",
    "print(agromanagement)\n"
   ]
  },
  {
   "cell_type": "code",
   "execution_count": 7,
   "metadata": {
    "collapsed": false
   },
   "outputs": [
    {
     "name": "stdout",
     "output_type": "stream",
     "text": [
      "Weather data provided by: NASAPowerWeatherDataProvider\n",
      "--------Description---------\n",
      "NASA/POWER Agroclimatology Daily Averaged Data\n",
      "Dates (month/day/year): 01/01/1984 through 02/20/2017\n",
      "Location: Latitude 52   Longitude 5\n",
      "Location clarification: Integer values may indicate the lower left (south and west) corner of the one degree lat/lon region that includes the requested locations\n",
      "Elevation (meters): Average for one degree lat/lon region = 5\n",
      "Methodology Documentation:\n",
      "*Vegetation type: \"Airport\": flat rough grass\n",
      "----Site characteristics----\n",
      "Elevation:    5.0\n",
      "Latitude:  52.000\n",
      "Longitude:  5.000\n",
      "Data available for 1997-01-01 - 2015-10-31\n",
      "Number of missing days: 53\n",
      "\n"
     ]
    }
   ],
   "source": [
    "from pcse.db import NASAPowerWeatherDataProvider\n",
    "wdp = NASAPowerWeatherDataProvider(latitude=52, longitude=5)\n",
    "print(wdp)"
   ]
  },
  {
   "cell_type": "code",
   "execution_count": 8,
   "metadata": {
    "collapsed": false
   },
   "outputs": [],
   "source": [
    "from pcse.models import Wofost71_WLP_FD\n",
    "wofsim = Wofost71_WLP_FD(parameters, wdp, agromanagement)"
   ]
  },
  {
   "cell_type": "code",
   "execution_count": 13,
   "metadata": {
    "collapsed": false
   },
   "outputs": [
    {
     "name": "stdout",
     "output_type": "stream",
     "text": [
      "{'DOH': datetime.date(2000, 10, 20), 'TAGP': 23700.1995860505, 'TWST': 3838.706343461271, 'DOM': None, 'TWRT': 2880.6378745918414, 'LAIMAX': 5.20813982397638, 'DOA': datetime.date(2000, 6, 9), 'DOE': datetime.date(2000, 4, 5), 'RD': 80.0, 'TWLV': 3234.5206043656226, 'DOS': None, 'CTRAT': 32.20810195620253, 'DOV': None, 'TWSO': 16626.972638223608, 'DVS': 2.223792857142857}\n"
     ]
    }
   ],
   "source": [
    "wofsim.run_till_terminate()\n",
    "output = wofsim.get_output()\n",
    "sumOut = wofsim.get_summary_output()\n",
    "for item in sumOut:\n",
    "    print item"
   ]
  },
  {
   "cell_type": "code",
   "execution_count": 10,
   "metadata": {
    "collapsed": true
   },
   "outputs": [],
   "source": [
    "varnames = [\"day\", \"DVS\", \"TAGP\", \"LAI\", \"SM\"]\n",
    "tmp = {}\n",
    "for var in varnames:\n",
    "    tmp[var] = [t[var] for t in output]"
   ]
  },
  {
   "cell_type": "code",
   "execution_count": 11,
   "metadata": {
    "collapsed": false
   },
   "outputs": [
    {
     "name": "stderr",
     "output_type": "stream",
     "text": [
      "C:\\Users\\nstoddar\\AppData\\Local\\Continuum\\Anaconda3\\envs\\py2_pcse\\lib\\site-packages\\matplotlib\\figure.py:387: UserWarning: matplotlib is currently using a non-GUI backend, so cannot show the figure\n",
      "  \"matplotlib is currently using a non-GUI backend, \"\n"
     ]
    },
    {
     "data": {
      "image/png": "[encoded data removed]",
      "text/plain": [
       "<matplotlib.figure.Figure at 0x8aef160>"
      ]
     },
     "metadata": {},
     "output_type": "display_data"
    }
   ],
   "source": [
    "day = tmp.pop(\"day\")\n",
    "fig, axes = plt.subplots(nrows=2, ncols=2, figsize=(10,8))\n",
    "for var, ax in zip([\"DVS\", \"TAGP\", \"LAI\", \"SM\"], axes.flatten()):\n",
    "    ax.plot_date(day, tmp[var], 'b-')\n",
    "    ax.set_title(var)\n",
    "fig.autofmt_xdate()\n",
    "fig.show()"
   ]
  },
  {
   "cell_type": "code",
   "execution_count": null,
   "metadata": {
    "collapsed": true
   },
   "outputs": [],
   "source": []
  }
 ],
 "metadata": {
  "anaconda-cloud": {},
  "kernelspec": {
   "display_name": "Python 2",
   "language": "python",
   "name": "python2"
  },
  "language_info": {
   "codemirror_mode": {
    "name": "ipython",
    "version": 2
   },
   "file_extension": ".py",
   "mimetype": "text/x-python",
   "name": "python",
   "nbconvert_exporter": "python",
   "pygments_lexer": "ipython2",
   "version": "2.7.10"
  }
 },
 "nbformat": 4,
 "nbformat_minor": 1
}
